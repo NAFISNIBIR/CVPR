{
 "cells": [
  {
   "cell_type": "code",
   "execution_count": null,
   "id": "40d7fcb5",
   "metadata": {},
   "outputs": [
    {
     "name": "stdout",
     "output_type": "stream",
     "text": [
      "Downloading data from https://www.cs.toronto.edu/~kriz/cifar-10-python.tar.gz\n",
      "170498071/170498071 [==============================] - 1024s 6us/step\n"
     ]
    }
   ],
   "source": [
    "import numpy as np\n",
    "import matplotlib.pyplot as plt\n",
    "from sklearn.neighbors import KNeighborsClassifier\n",
    "from sklearn.model_selection import cross_val_score\n",
    "from tensorflow.keras.datasets import cifar10\n",
    "\n",
    "# Load CIFAR-10 dataset\n",
    "(X_train, y_train), (X_test, y_test) = cifar10.load_data()\n",
    "\n",
    "# Flatten images to 1-D array\n",
    "X_train = X_train.reshape(X_train.shape[0], -1)\n",
    "X_test = X_test.reshape(X_test.shape[0], -1)\n",
    "\n",
    "# Create KNN classifiers with Euclidean and Manhattan distances\n",
    "knn_euclidean = KNeighborsClassifier(n_neighbors=5, metric='euclidean')\n",
    "knn_manhattan = KNeighborsClassifier(n_neighbors=5, metric='manhattan')\n",
    "\n",
    "# Train the models using K-fold cross-validation\n",
    "kfold_scores_euclidean = cross_val_score(knn_euclidean, X_train, y_train.ravel(), cv=5)\n",
    "kfold_scores_manhattan = cross_val_score(knn_manhattan, X_train, y_train.ravel(), cv=5)\n",
    "\n",
    "# Print average accuracy of K-fold cross-validation\n",
    "print(\"Euclidean distance - Accuracy: %0.2f (+/- %0.2f)\" % (kfold_scores_euclidean.mean(), kfold_scores_euclidean.std() * 2))\n",
    "print(\"Manhattan distance - Accuracy: %0.2f (+/- %0.2f)\" % (kfold_scores_manhattan.mean(), kfold_scores_manhattan.std() * 2))\n",
    "\n",
    "# Impact of changing K parameter in KNN algorithm on accuracy of classifier in K-fold cross-validation\n",
    "k_range = range(1, 31)\n",
    "k_scores_euclidean = []\n",
    "k_scores_manhattan = []\n",
    "for k in k_range:\n",
    "    knn_euclidean = KNeighborsClassifier(n_neighbors=k, metric='euclidean')\n",
    "    knn_manhattan = KNeighborsClassifier(n_neighbors=k, metric='manhattan')\n",
    "    scores_euclidean = cross_val_score(knn_euclidean, X_train, y_train.ravel(), cv=5)\n",
    "    scores_manhattan = cross_val_score(knn_manhattan, X_train, y_train.ravel(), cv=5)\n",
    "    k_scores_euclidean.append(scores_euclidean.mean())\n",
    "    k_scores_manhattan.append(scores_manhattan.mean())\n",
    "\n",
    "# Plot the impact of changing K parameter on accuracy\n",
    "plt.plot(k_range, k_scores_euclidean, label='Euclidean distance')\n",
    "plt.plot(k_range, k_scores_manhattan, label='Manhattan distance')\n",
    "plt.xlabel('Value of K for KNN')\n",
    "plt.ylabel('Cross-validated accuracy')\n",
    "plt.legend()\n",
    "plt.show()"
   ]
  },
  {
   "cell_type": "code",
   "execution_count": null,
   "id": "f0350548",
   "metadata": {},
   "outputs": [],
   "source": []
  }
 ],
 "metadata": {
  "kernelspec": {
   "display_name": "Python 3 (ipykernel)",
   "language": "python",
   "name": "python3"
  },
  "language_info": {
   "codemirror_mode": {
    "name": "ipython",
    "version": 3
   },
   "file_extension": ".py",
   "mimetype": "text/x-python",
   "name": "python",
   "nbconvert_exporter": "python",
   "pygments_lexer": "ipython3",
   "version": "3.9.16"
  }
 },
 "nbformat": 4,
 "nbformat_minor": 5
}
